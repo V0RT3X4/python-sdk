{
 "cells": [
  {
   "cell_type": "markdown",
   "metadata": {},
   "source": [
    "# VortexaSDK\n",
    "\n",
    "Documentation: https://v0rt3x4.github.io/python-sdk/ \n",
    "\n",
    "The VortexaSDK is Vortexa's Software Development Kit (SDK) for Python, which allows Data Scientists, Analysts and Developers to query Vortexa's API.\n",
    "\n",
    "This notebook will cover show users how to call Vortexa's:\n",
    "\n",
    "* Vessels Endpoint\n",
    "* Geographies Endpoint\n",
    "* Products Endpoint\n",
    "* Corporations Endpoin\n",
    "* Cargo Movements Endpoint\n",
    "* Vessel Movements Endpoint\n",
    "\n",
    "This notebook will also demonstrate some of the potential uses of our data."
   ]
  },
  {
   "cell_type": "code",
   "execution_count": null,
   "metadata": {},
   "outputs": [],
   "source": [
    "pip install vortexasdk"
   ]
  },
  {
   "cell_type": "code",
   "execution_count": null,
   "metadata": {},
   "outputs": [],
   "source": [
    "from vortexasdk import(\n",
    "    CargoMovements,\n",
    "    Corporations,\n",
    "    Geographies,\n",
    "    Products,\n",
    "    VesselMovements,\n",
    "    Vessels\n",
    ")\n",
    "import pandas as pd"
   ]
  },
  {
   "cell_type": "markdown",
   "metadata": {},
   "source": [
    "## Vessels\n",
    "Lets start by loading all vessels:"
   ]
  },
  {
   "cell_type": "code",
   "execution_count": null,
   "metadata": {
    "scrolled": false
   },
   "outputs": [],
   "source": [
    "all_vessels_df = Vessels().search().to_df()\n",
    "all_vessels_df.head(3)"
   ]
  },
  {
   "cell_type": "markdown",
   "metadata": {},
   "source": [
    "```params: {'term': [], 'ids': [], 'vessel_classes': [], 'vessel_product_types': []}```\n",
    "\n",
    "This tells us that we can search using the following above parmeters.\n",
    "Refer to https://v0rt3x4.github.io/python-sdk/endpoints/vessels/ \n",
    "\n",
    "Lets try using the search functionality to select only suezmax vessels:"
   ]
  },
  {
   "cell_type": "code",
   "execution_count": null,
   "metadata": {},
   "outputs": [],
   "source": [
    "suezmax_vessels_df = Vessels().search(vessel_classes='suezmax').to_df()\n",
    "suezmax_vessels_df.head(3)"
   ]
  },
  {
   "cell_type": "markdown",
   "metadata": {},
   "source": [
    "Finally for vessels we can specify the columns we want. To return all columns use:"
   ]
  },
  {
   "cell_type": "code",
   "execution_count": null,
   "metadata": {},
   "outputs": [],
   "source": [
    "suezmax_vessels_all_columns_df = Vessels().search(vessel_classes='suezmax').to_df('all')\n",
    "suezmax_vessels_all_columns_df.head(3)"
   ]
  },
  {
   "cell_type": "code",
   "execution_count": null,
   "metadata": {},
   "outputs": [],
   "source": [
    "suezmax_vessels_all_columns_df.columns"
   ]
  },
  {
   "cell_type": "markdown",
   "metadata": {},
   "source": [
    "Now to select a subset which columns you would like to return you can pass these into the `to_df()` method"
   ]
  },
  {
   "cell_type": "code",
   "execution_count": null,
   "metadata": {},
   "outputs": [],
   "source": [
    "suezmax_vessels_some_columns_df = Vessels().search(vessel_classes='suezmax').to_df(\n",
    "    columns=['name', 'imo', 'mmsi','dead_weight'])\n",
    "suezmax_vessels_some_columns_df.head(3)"
   ]
  },
  {
   "cell_type": "markdown",
   "metadata": {},
   "source": [
    "## Geographies\n",
    "Similarily to vessels we can view all of Vortexas Geographies"
   ]
  },
  {
   "cell_type": "code",
   "execution_count": null,
   "metadata": {
    "scrolled": true
   },
   "outputs": [],
   "source": [
    "all_geographies_df = Geographies().search(term=[]).to_df()\n",
    "all_geographies_df.head(3)"
   ]
  },
  {
   "cell_type": "markdown",
   "metadata": {},
   "source": [
    "## Products"
   ]
  },
  {
   "cell_type": "code",
   "execution_count": null,
   "metadata": {
    "scrolled": true
   },
   "outputs": [],
   "source": [
    "all_products_df = Products().search().to_df()\n",
    "all_products_df.head(3)"
   ]
  },
  {
   "cell_type": "markdown",
   "metadata": {},
   "source": [
    "## Corporations"
   ]
  },
  {
   "cell_type": "code",
   "execution_count": null,
   "metadata": {
    "scrolled": true
   },
   "outputs": [],
   "source": [
    "all_corporations_df = Corporations().search().to_df()\n",
    "all_corporations_df.head(3)"
   ]
  },
  {
   "cell_type": "markdown",
   "metadata": {},
   "source": [
    "## VesselMovements"
   ]
  },
  {
   "cell_type": "code",
   "execution_count": null,
   "metadata": {
    "scrolled": true
   },
   "outputs": [],
   "source": [
    "all_vessel_movements_df = VesselMovements().search().to_df()\n",
    "all_vessel_movements_df.head(3)"
   ]
  },
  {
   "cell_type": "markdown",
   "metadata": {},
   "source": [
    "## CargoMovements"
   ]
  },
  {
   "cell_type": "code",
   "execution_count": null,
   "metadata": {
    "scrolled": true
   },
   "outputs": [],
   "source": [
    "all_cargo_movements_df = CargoMovements().search(\n",
    "    filter_activity=,\n",
    ").to_df()\n",
    "all_cargo_movements_df.head(3)"
   ]
  },
  {
   "cell_type": "code",
   "execution_count": null,
   "metadata": {},
   "outputs": [],
   "source": []
  }
 ],
 "metadata": {
  "kernelspec": {
   "display_name": "python-sdk",
   "language": "python",
   "name": "python-sdk"
  },
  "language_info": {
   "codemirror_mode": {
    "name": "ipython",
    "version": 3
   },
   "file_extension": ".py",
   "mimetype": "text/x-python",
   "name": "python",
   "nbconvert_exporter": "python",
   "pygments_lexer": "ipython3",
   "version": "3.7.4"
  }
 },
 "nbformat": 4,
 "nbformat_minor": 2
}
